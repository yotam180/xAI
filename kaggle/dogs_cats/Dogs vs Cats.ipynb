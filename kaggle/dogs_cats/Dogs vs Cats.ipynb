{
 "cells": [
  {
   "cell_type": "markdown",
   "metadata": {},
   "source": [
    "# Dogs vs Cats machine learning challenge"
   ]
  },
  {
   "cell_type": "code",
   "execution_count": 77,
   "metadata": {},
   "outputs": [],
   "source": [
    "# This is the notebook for playing around with Python machine learning\n",
    "# For image recognition.\n",
    "\n",
    "import os\n",
    "import cv2\n",
    "import numpy as np\n",
    "from random import shuffle, randint, random\n",
    "\n",
    "import tflearn\n",
    "from tflearn.layers.conv import conv_2d, max_pool_2d\n",
    "from tflearn.layers.core import input_data, dropout, fully_connected\n",
    "from tflearn.layers.estimator import regression\n",
    "\n",
    "import tensorflow as tf\n",
    "tf.reset_default_graph()"
   ]
  },
  {
   "cell_type": "code",
   "execution_count": 3,
   "metadata": {},
   "outputs": [],
   "source": [
    "# Constants:\n",
    "\n",
    "TREE = os.path.abspath(os.path.join(\"..\"))\n",
    "TRAINING_DIR = os.path.join(TREE, \"dogs_cats/train\")\n",
    "TEST_DIR = os.path.join(TREE, \"dogs_cats/test\")\n",
    "IMG_SIZE = 50\n",
    "LEARNING_RATE = 1e-3\n",
    "\n",
    "MODEL_NAME = \"dogsvscats-%f-%s.model\" % (LEARNING_RATE, \"2conv-basic\")"
   ]
  },
  {
   "cell_type": "code",
   "execution_count": 4,
   "metadata": {},
   "outputs": [],
   "source": [
    "def label_image(img):\n",
    "    word_label = img.split(\".\")[-3]\n",
    "    if word_label == \"cat\":\n",
    "        return [1, 0]\n",
    "    elif word_label == \"dog\":\n",
    "        return [0, 1]"
   ]
  },
  {
   "cell_type": "code",
   "execution_count": 5,
   "metadata": {},
   "outputs": [],
   "source": [
    "def create_training_data():\n",
    "    training_data = []\n",
    "    for img in os.listdir(TRAINING_DIR):\n",
    "        label = label_image(img)\n",
    "        path = os.path.join(TRAINING_DIR, img)\n",
    "        i = cv2.imread(path, cv2.IMREAD_GRAYSCALE)\n",
    "        i = cv2.resize(i, (IMG_SIZE, IMG_SIZE))\n",
    "        training_data.append((np.array(i), np.array(label)))\n",
    "    shuffle(training_data)\n",
    "    np.save(\"train_data.npy\", training_data)\n",
    "    return training_data"
   ]
  },
  {
   "cell_type": "code",
   "execution_count": 6,
   "metadata": {},
   "outputs": [],
   "source": [
    "def create_testing_cata():\n",
    "    test_data = []\n",
    "    for img in os.listdir(TEST_DIR):\n",
    "        path = os.path.join(TRAIN_DIR, img)\n",
    "        idx = img.split(\".\")[0]\n",
    "        i = cv2.imread(path, cv2.IMREAD_GRAYSCALE)\n",
    "        i = cv2.resize(i, (IMG_SIZE, IMG_SIZE))\n",
    "        test_data.append((np.array(i), idx))\n",
    "    np.save(\"test_data.npy\", test_data)\n",
    "    return test_data"
   ]
  },
  {
   "cell_type": "code",
   "execution_count": 7,
   "metadata": {},
   "outputs": [
    {
     "name": "stdout",
     "output_type": "stream",
     "text": [
      "25000\n"
     ]
    }
   ],
   "source": [
    "training_data = np.load(\"train_data.npy\") if os.path.exists(\"train_data.npy\") else create_training_data()\n",
    "print(len(training_data))"
   ]
  },
  {
   "cell_type": "code",
   "execution_count": 79,
   "metadata": {},
   "outputs": [],
   "source": [
    "tf.reset_default_graph()\n",
    "\n",
    "convnet = input_data(shape=[None, IMG_SIZE, IMG_SIZE, 1], name='input')\n",
    "\n",
    "convnet = conv_2d(convnet, 32, 5, activation='relu')\n",
    "convnet = max_pool_2d(convnet, 5)\n",
    "\n",
    "convnet = conv_2d(convnet, 64, 5, activation='relu')\n",
    "convnet = max_pool_2d(convnet, 5)\n",
    "\n",
    "convnet = conv_2d(convnet, 128, 5, activation='relu')\n",
    "convnet = max_pool_2d(convnet, 5)\n",
    "\n",
    "convnet = conv_2d(convnet, 64, 5, activation='relu')\n",
    "convnet = max_pool_2d(convnet, 5)\n",
    "\n",
    "convnet = conv_2d(convnet, 32, 5, activation='relu')\n",
    "convnet = max_pool_2d(convnet, 5)\n",
    "\n",
    "convnet = fully_connected(convnet, 1024, activation='relu')\n",
    "convnet = dropout(convnet, 0.8)\n",
    "\n",
    "convnet = fully_connected(convnet, 2, activation='softmax')\n",
    "convnet = regression(convnet, optimizer='adam', learning_rate=LEARNING_RATE, loss='categorical_crossentropy', name='targets')\n",
    "\n",
    "model = tflearn.DNN(convnet, tensorboard_dir='log')"
   ]
  },
  {
   "cell_type": "code",
   "execution_count": 14,
   "metadata": {},
   "outputs": [],
   "source": [
    "if os.path.exists(\"%s.meta\" % (MODEL_NAME)):\n",
    "    model.load(MODEL_NAME)\n",
    "    print(\"Model loaded.\")"
   ]
  },
  {
   "cell_type": "code",
   "execution_count": 75,
   "metadata": {},
   "outputs": [],
   "source": [
    "train = training_data[:-500]\n",
    "test = training_data[-500:]\n",
    "\n",
    "X = np.array([i[0] for i in train]).reshape(-1, IMG_SIZE, IMG_SIZE, 1)\n",
    "Y = [i[1] for i in train]\n",
    "\n",
    "test_x = np.array([i[0] for i in test]).reshape(-1, IMG_SIZE, IMG_SIZE, 1)\n",
    "test_y = [i[1] for i in test]\n"
   ]
  },
  {
   "cell_type": "code",
   "execution_count": 81,
   "metadata": {},
   "outputs": [
    {
     "name": "stdout",
     "output_type": "stream",
     "text": [
      "Training Step: 1148  | total loss: \u001b[1m\u001b[32m0.45035\u001b[0m\u001b[0m | time: 111.762s\n",
      "| Adam | epoch: 003 | loss: 0.45035 - acc: 0.7893 -- iter: 24448/24500\n",
      "Training Step: 1149  | total loss: \u001b[1m\u001b[32m0.43884\u001b[0m\u001b[0m | time: 113.023s\n",
      "| Adam | epoch: 003 | loss: 0.43884 - acc: 0.7947 | val_loss: 0.44447 - val_acc: 0.7920 -- iter: 24500/24500\n",
      "--\n"
     ]
    }
   ],
   "source": [
    "model.fit({\"input\": X}, {\"targets\": Y}, n_epoch=3, validation_set=({\"input\": test_x}, {\"targets\": test_y}), snapshot_step=500, show_metric=True, run_id=MODEL_NAME)"
   ]
  },
  {
   "cell_type": "code",
   "execution_count": 82,
   "metadata": {},
   "outputs": [
    {
     "name": "stdout",
     "output_type": "stream",
     "text": [
      "INFO:tensorflow:C:\\Users\\yotam\\Documents\\xAI\\kaggle\\dogs_cats\\dogsvscats-0.001000-2conv-basic.model is not in all_model_checkpoint_paths. Manually adding it.\n"
     ]
    },
    {
     "name": "stderr",
     "output_type": "stream",
     "text": [
      "INFO:tensorflow:C:\\Users\\yotam\\Documents\\xAI\\kaggle\\dogs_cats\\dogsvscats-0.001000-2conv-basic.model is not in all_model_checkpoint_paths. Manually adding it.\n"
     ]
    }
   ],
   "source": [
    "model.save(MODEL_NAME)"
   ]
  },
  {
   "cell_type": "code",
   "execution_count": null,
   "metadata": {},
   "outputs": [],
   "source": []
  }
 ],
 "metadata": {
  "kernelspec": {
   "display_name": "Python 3",
   "language": "python",
   "name": "python3"
  },
  "language_info": {
   "codemirror_mode": {
    "name": "ipython",
    "version": 3
   },
   "file_extension": ".py",
   "mimetype": "text/x-python",
   "name": "python",
   "nbconvert_exporter": "python",
   "pygments_lexer": "ipython3",
   "version": "3.5.4"
  }
 },
 "nbformat": 4,
 "nbformat_minor": 2
}
