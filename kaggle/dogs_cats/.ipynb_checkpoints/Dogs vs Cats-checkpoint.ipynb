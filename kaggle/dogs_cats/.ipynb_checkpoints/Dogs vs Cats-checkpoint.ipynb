{
 "cells": [
  {
   "cell_type": "markdown",
   "metadata": {},
   "source": [
    "# Dogs vs Cats machine learning challenge"
   ]
  },
  {
   "cell_type": "code",
   "execution_count": 2,
   "metadata": {},
   "outputs": [],
   "source": [
    "# This is the notebook for playing around with Python machine learning\n",
    "# For image recognition.\n",
    "\n",
    "import os\n",
    "import cv2\n",
    "import numpy as np\n",
    "from random import shuffle, randint, random\n",
    "\n",
    "import tflearn\n",
    "from tflearn.layers.conv import conv_2d, max_pool_2d\n",
    "from tflearn.layers.core import input_data, dropout, fully_connected\n",
    "from tflearn.layers.estimator import regression"
   ]
  },
  {
   "cell_type": "code",
   "execution_count": 3,
   "metadata": {},
   "outputs": [],
   "source": [
    "# Constants:\n",
    "\n",
    "TREE = os.path.abspath(os.path.join(\"..\"))\n",
    "TRAINING_DIR = os.path.join(TREE, \"dogs_cats/train\")\n",
    "TEST_DIR = os.path.join(TREE, \"dogs_cats/test\")\n",
    "IMG_SIZE = 50\n",
    "LEARNING_RATE = 1e-3\n",
    "\n",
    "MODEL_NAME = \"dogsvscats-%f-%s.model\" % (LEARNING_RATE, \"2conv-basic\")"
   ]
  },
  {
   "cell_type": "code",
   "execution_count": 4,
   "metadata": {},
   "outputs": [],
   "source": [
    "def label_image(img):\n",
    "    word_label = img.split(\".\")[-3]\n",
    "    if word_label == \"cat\":\n",
    "        return [1, 0]\n",
    "    elif word_label == \"dog\":\n",
    "        return [0, 1]"
   ]
  },
  {
   "cell_type": "code",
   "execution_count": 5,
   "metadata": {},
   "outputs": [],
   "source": [
    "def create_training_data():\n",
    "    training_data = []\n",
    "    for img in os.listdir(TRAINING_DIR):\n",
    "        label = label_image(img)\n",
    "        path = os.path.join(TRAINING_DIR, img)\n",
    "        i = cv2.imread(path, cv2.IMREAD_GRAYSCALE)\n",
    "        i = cv2.resize(i, (IMG_SIZE, IMG_SIZE))\n",
    "        training_data.append((np.array(i), np.array(label)))\n",
    "    shuffle(training_data)\n",
    "    np.save(\"train_data.npy\", training_data)\n",
    "    return training_data"
   ]
  },
  {
   "cell_type": "code",
   "execution_count": 6,
   "metadata": {},
   "outputs": [],
   "source": [
    "def create_testing_cata():\n",
    "    test_data = []\n",
    "    for img in os.listdir(TEST_DIR):\n",
    "        path = os.path.join(TRAIN_DIR, img)\n",
    "        idx = img.split(\".\")[0]\n",
    "        i = cv2.imread(path, cv2.IMREAD_GRAYSCALE)\n",
    "        i = cv2.resize(i, (IMG_SIZE, IMG_SIZE))\n",
    "        test_data.append((np.array(i), idx))\n",
    "    np.save(\"test_data.npy\", test_data)\n",
    "    return test_data"
   ]
  },
  {
   "cell_type": "code",
   "execution_count": 7,
   "metadata": {},
   "outputs": [
    {
     "name": "stdout",
     "output_type": "stream",
     "text": [
      "25000\n"
     ]
    }
   ],
   "source": [
    "training_data = np.load(\"train_data.npy\") if os.path.exists(\"train_data.npy\") else create_training_data()\n",
    "print(len(training_data))"
   ]
  },
  {
   "cell_type": "code",
   "execution_count": null,
   "metadata": {},
   "outputs": [],
   "source": [
    "# Input layer\n",
    "convent = input_data(shape[None, IMG_SIZE, IMG_SIZE, 1], name=\"input_layer\")\n",
    "\n",
    "# Convolution layer\n",
    "convent = conv_2d(convent, 32, 2, activation=\"relu\")\n",
    "convent = max_pool_2d(convent, 2)\n",
    "\n",
    "# Convolution layer\n",
    "convent = conv_2d(convent, 64, 2, activation=\"relu\")\n",
    "convent = max_pool_2d(convent, 2)\n",
    "\n",
    "# Hidden layer \n",
    "convent = fully_connected(convent, 1024, activation=\"relu\")\n",
    "convent = drouout(convent, 0.8)\n",
    "\n",
    "# Output layer\n",
    "convent = fully_connected(convent, 2, activation=\"relu\")\n",
    "convent = regression(convent, optimizer=\"adam\", learning_rate=LARNING_RATE, loss=\"categorical_crossentropy\")\n",
    "\n",
    "model = tflearn.DNN(convent, tensor_dir=\"log\")\n",
    "\n"
   ]
  }
 ],
 "metadata": {
  "kernelspec": {
   "display_name": "Python 3",
   "language": "python",
   "name": "python3"
  },
  "language_info": {
   "codemirror_mode": {
    "name": "ipython",
    "version": 3
   },
   "file_extension": ".py",
   "mimetype": "text/x-python",
   "name": "python",
   "nbconvert_exporter": "python",
   "pygments_lexer": "ipython3",
   "version": "3.5.4"
  }
 },
 "nbformat": 4,
 "nbformat_minor": 2
}
